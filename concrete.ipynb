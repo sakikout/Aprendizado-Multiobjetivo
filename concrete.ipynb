{
 "cells": [
  {
   "cell_type": "markdown",
   "id": "da7536d6",
   "metadata": {},
   "source": [
    "## Aprendizado Multiobjetivo em Modelos Supervisionados\n",
    "\n",
    "**Dupla**: Beatriz Evelyn Dalfior (22.1.8012), Amanda Jacomette Dias Barbosa (22.1.8025)\n",
    "\n",
    "**Disciplina**: Aprendizagem de Máquina (CSI704)\n",
    "\n",
    "**Professor**: Luiz Carlos Bambirra Torres\n",
    "\n",
    "\n",
    "**Objetivos**:\n",
    "- Implementar e treinar modelos supervisionados (Redes Neurais, Árvores de Decisão e Random Forest).\n",
    "- Aplicar conceitos de otimização multiobjetivo para equilibrar erro de predição e complexidade do modelo.\n",
    "- Compreender os trade-offs entre desempenho e complexidade.\n",
    "- Demonstrar domínio da metodologia aplicada por meio de arguição.\n",
    "\n",
    "\n",
    "---"
   ]
  },
  {
   "cell_type": "code",
   "execution_count": 3,
   "id": "51ec1a61",
   "metadata": {},
   "outputs": [],
   "source": [
    "import pandas as pd\n",
    "import numpy as np\n",
    "import seaborn as sns\n",
    "from ucimlrepo import fetch_ucirepo \n",
    "import matplotlib.pyplot as plt\n",
    "\n",
    "from sklearn.model_selection import train_test_split, cross_val_score\n",
    "from sklearn.preprocessing import StandardScaler\n",
    "from sklearn.feature_selection import VarianceThreshold, SequentialFeatureSelector\n",
    "from sklearn.metrics import accuracy_score, confusion_matrix, classification_report, mean_squared_error, r2_score, precision_score, recall_score, f1_score\n",
    "from sklearn.feature_selection import SelectKBest, f_classif\n",
    "from imblearn.over_sampling import SMOTE\n",
    "from sklearn.preprocessing import MinMaxScaler\n",
    "from sklearn.model_selection import StratifiedKFold\n",
    "from sklearn.model_selection import cross_validate\n",
    "from sklearn.datasets import make_circles, make_classification\n",
    "\n",
    "from sklearn.neural_network import MLPClassifier\n",
    "from sklearn.tree import DecisionTreeRegressor\n",
    "from sklearn.ensemble import RandomForestClassifier\n"
   ]
  },
  {
   "cell_type": "markdown",
   "id": "b2612958",
   "metadata": {},
   "source": [
    "---\n",
    "\n",
    "### 1. Base de Dados:\n",
    "Escolher três base de dados de regressão ou classificação do repositório UCI Machine Learning Repository (https://archive.ics.uci.edu/) ou outra fonte confiável.\n",
    "\n",
    "Datasets:\n",
    "- **Regressão**: Student Performance\n",
    "- **Classificação**: Spambase\n",
    "- Concrete Compressive Strength"
   ]
  },
  {
   "cell_type": "code",
   "execution_count": null,
   "id": "b96881af",
   "metadata": {},
   "outputs": [
    {
     "name": "stdout",
     "output_type": "stream",
     "text": [
      "{'uci_id': 165, 'name': 'Concrete Compressive Strength', 'repository_url': 'https://archive.ics.uci.edu/dataset/165/concrete+compressive+strength', 'data_url': 'https://archive.ics.uci.edu/static/public/165/data.csv', 'abstract': 'Concrete is the most important material in civil engineering. The concrete compressive strength is a highly nonlinear function of age and ingredients. ', 'area': 'Physics and Chemistry', 'tasks': ['Regression'], 'characteristics': ['Multivariate'], 'num_instances': 1030, 'num_features': 8, 'feature_types': ['Real'], 'demographics': [], 'target_col': ['Concrete compressive strength'], 'index_col': None, 'has_missing_values': 'no', 'missing_values_symbol': None, 'year_of_dataset_creation': 1998, 'last_updated': 'Sun Feb 11 2024', 'dataset_doi': '10.24432/C5PK67', 'creators': ['I-Cheng Yeh'], 'intro_paper': {'ID': 383, 'type': 'NATIVE', 'title': 'Modeling of strength of high-performance concrete using artificial neural networks', 'authors': 'I. Yeh', 'venue': 'Cement and Concrete Research, Vol. 28, No. 12', 'year': 1998, 'journal': None, 'DOI': '10.1016/S0008-8846(98)00165-3', 'URL': 'https://www.semanticscholar.org/paper/9310cae70452ea11465f338483e79cc36a68881c', 'sha': None, 'corpus': None, 'arxiv': None, 'mag': None, 'acl': None, 'pmid': None, 'pmcid': None}, 'additional_info': {'summary': 'Number of instances \\t1030\\r\\nNumber of Attributes\\t9\\r\\nAttribute breakdown\\t8 quantitative input variables, and 1 quantitative output variable\\r\\nMissing Attribute Values\\tNone \\r\\n', 'purpose': None, 'funded_by': None, 'instances_represent': None, 'recommended_data_splits': None, 'sensitive_data': None, 'preprocessing_description': None, 'variable_info': 'Given are the variable name, variable type, the measurement unit and a brief description. The concrete compressive strength is the regression problem. The order of this listing corresponds to the order of numerals along the rows of the database. \\r\\n\\r\\nName -- Data Type -- Measurement -- Description\\r\\n\\r\\nCement (component 1) -- quantitative -- kg in a m3 mixture -- Input Variable\\r\\nBlast Furnace Slag (component 2) -- quantitative -- kg in a m3 mixture -- Input Variable\\r\\nFly Ash (component 3) -- quantitative  -- kg in a m3 mixture -- Input Variable\\r\\nWater  (component 4) -- quantitative  -- kg in a m3 mixture -- Input Variable\\r\\nSuperplasticizer (component 5) -- quantitative -- kg in a m3 mixture -- Input Variable\\r\\nCoarse Aggregate  (component 6) -- quantitative -- kg in a m3 mixture -- Input Variable\\r\\nFine Aggregate (component 7)\\t -- quantitative  -- kg in a m3 mixture -- Input Variable\\r\\nAge -- quantitative  -- Day (1~365) -- Input Variable\\r\\nConcrete compressive strength -- quantitative -- MPa -- Output Variable\\r\\n\\r\\n', 'citation': None}}\n",
      "                            name     role        type demographic description  \\\n",
      "0                         Cement  Feature  Continuous        None        None   \n",
      "1             Blast Furnace Slag  Feature     Integer        None        None   \n",
      "2                        Fly Ash  Feature  Continuous        None        None   \n",
      "3                          Water  Feature  Continuous        None        None   \n",
      "4               Superplasticizer  Feature  Continuous        None        None   \n",
      "5               Coarse Aggregate  Feature  Continuous        None        None   \n",
      "6                 Fine Aggregate  Feature  Continuous        None        None   \n",
      "7                            Age  Feature     Integer        None        None   \n",
      "8  Concrete compressive strength   Target  Continuous        None        None   \n",
      "\n",
      "    units missing_values  \n",
      "0  kg/m^3             no  \n",
      "1  kg/m^3             no  \n",
      "2  kg/m^3             no  \n",
      "3  kg/m^3             no  \n",
      "4  kg/m^3             no  \n",
      "5  kg/m^3             no  \n",
      "6  kg/m^3             no  \n",
      "7     day             no  \n",
      "8     MPa             no  \n"
     ]
    }
   ],
   "source": [
    "# ------------------ CONCRETE COMPRESSIVE STRENGTH ------------------\n",
    "# fetch dataset \n",
    "concrete_compressive_strength = fetch_ucirepo(id=165) \n",
    "\n",
    "# data (as pandas dataframes) \n",
    "X = concrete_compressive_strength.data.features \n",
    "y = concrete_compressive_strength.data.targets \n",
    "  \n",
    "# metadata \n",
    "print(concrete_compressive_strength.metadata) \n",
    "  \n",
    "# variable information \n",
    "print(concrete_compressive_strength.variables) \n",
    "\n"
   ]
  },
  {
   "cell_type": "code",
   "execution_count": null,
   "id": "1923a943",
   "metadata": {},
   "outputs": [
    {
     "name": "stdout",
     "output_type": "stream",
     "text": [
      "Valores faltantes antes do tratamento:\n",
      "Cement                           38\n",
      "Blast Furnace Slag               38\n",
      "Fly Ash                          38\n",
      "Water                            38\n",
      "Superplasticizer                 38\n",
      "Coarse Aggregate                 38\n",
      "Fine Aggregate                   38\n",
      "Age                              38\n",
      "Concrete compressive strength     0\n",
      "dtype: int64\n",
      "\n",
      "Valores faltantes após o tratamento:\n",
      "0\n",
      "\n",
      "Número de amostras em X e y:\n",
      "1030 1030\n"
     ]
    }
   ],
   "source": [
    "# -------------------------  Preprocess dataset -------------------------\n",
    "# Juntar X e y primeiro para garantir consistência\n",
    "df = pd.concat([X, y], axis=1)\n",
    "\n",
    "# Verificar e tratar valores faltantes\n",
    "print(\"Valores faltantes antes do tratamento:\")\n",
    "print(df.isnull().sum())\n",
    "\n",
    "# Preencher valores faltantes (se necessário)\n",
    "df.fillna(df.mean(), inplace=True)\n",
    "\n",
    "# Verificar se ainda há valores faltantes\n",
    "print(\"\\nValores faltantes após o tratamento:\")\n",
    "print(df.isnull().sum().sum()) \n",
    "\n",
    "# Separar novamente X e y após o tratamento\n",
    "X = df.drop(columns=y.columns)\n",
    "y = df[y.columns]\n",
    "\n",
    "# Verificar consistência no tamanho\n",
    "print(\"\\nNúmero de amostras em X e y:\")\n",
    "print(len(X), len(y))\n"
   ]
  },
  {
   "cell_type": "code",
   "execution_count": null,
   "id": "9cd89321",
   "metadata": {},
   "outputs": [],
   "source": [
    "# ------------------------- Data Preparation -------------------------\n",
    "# Normalização\n",
    "scaler = StandardScaler()\n",
    "X_scaled = scaler.fit_transform(X)\n",
    "\n",
    "# ------------------- Train/Test split -------------------\n",
    "X_train, X_test, y_train, y_test = train_test_split(\n",
    "    X_scaled, y, test_size=0.3, random_state=42\n",
    ")"
   ]
  },
  {
   "cell_type": "markdown",
   "id": "b12f9282",
   "metadata": {},
   "source": [
    "---\n",
    "\n",
    "### 2. Modelagem com Algoritmos Supervisionados:\n",
    "Utilizar os três ou mais\n",
    "- Rede Neural (MLP)\n",
    "- Árvore de Decisão\n",
    "- Random Forest\n",
    "\n",
    "Explorar diferentes arquiteturas ou configurações (como profundidade, número de neurônios, número de árvores etc.) para gerar modelos com diferentes graus de complexidade."
   ]
  },
  {
   "cell_type": "code",
   "execution_count": null,
   "id": "c513d29b",
   "metadata": {},
   "outputs": [],
   "source": []
  },
  {
   "cell_type": "markdown",
   "id": "a2da7c50",
   "metadata": {},
   "source": [
    "---\n",
    "\n",
    "### 3. Critérios de Avaliação:\n",
    "**Erro de predição**: utilizar métricas como MSE, RMSE, acurácia, F1-score, conforme o tipo de problema.\n",
    "\n",
    "**Complexidade do modelo**:\n",
    "* **Redes neurais**: número de parâmetros treináveis.\n",
    "* **Árvores de decisão**: profundidade ou número de nós.\n",
    "* **Random Forest**: número de árvores e profundidade média."
   ]
  },
  {
   "cell_type": "code",
   "execution_count": null,
   "id": "d7aefee2",
   "metadata": {},
   "outputs": [],
   "source": []
  },
  {
   "cell_type": "markdown",
   "id": "0aefc40d",
   "metadata": {},
   "source": [
    "---\n",
    "\n",
    "### 4. Otimização Multiobjetivo:\n",
    "Utilizar alguma abordagem para encontrar modelos que equilibrem desempenho e complexidade, como:\n",
    "- Busca em grade ou aleatória com análise biobjetiva.\n",
    "- Algoritmos evolutivos (como NSGA-II, se desejado).\n",
    "- Análise e visualização da fronteira de Pareto."
   ]
  },
  {
   "cell_type": "code",
   "execution_count": null,
   "id": "56e21ab3",
   "metadata": {},
   "outputs": [],
   "source": []
  }
 ],
 "metadata": {
  "kernelspec": {
   "display_name": "Python 3",
   "language": "python",
   "name": "python3"
  },
  "language_info": {
   "codemirror_mode": {
    "name": "ipython",
    "version": 3
   },
   "file_extension": ".py",
   "mimetype": "text/x-python",
   "name": "python",
   "nbconvert_exporter": "python",
   "pygments_lexer": "ipython3",
   "version": "3.13.1"
  }
 },
 "nbformat": 4,
 "nbformat_minor": 5
}
