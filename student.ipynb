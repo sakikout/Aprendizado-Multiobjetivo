{
 "cells": [
  {
   "cell_type": "markdown",
   "id": "e9d53d03",
   "metadata": {},
   "source": [
    "## Aprendizado Multiobjetivo em Modelos Supervisionados\n",
    "\n",
    "**Dupla**: Beatriz Evelyn Dalfior (22.1.8012), Amanda Jacomette Dias Barbosa (22.1.8025)\n",
    "\n",
    "**Disciplina**: Aprendizagem de Máquina (CSI704)\n",
    "\n",
    "**Professor**: Luiz Carlos Bambirra Torres\n",
    "\n",
    "\n",
    "**Objetivos**:\n",
    "- Implementar e treinar modelos supervisionados (Redes Neurais, Árvores de Decisão e Random Forest).\n",
    "- Aplicar conceitos de otimização multiobjetivo para equilibrar erro de predição e complexidade do modelo.\n",
    "- Compreender os trade-offs entre desempenho e complexidade.\n",
    "- Demonstrar domínio da metodologia aplicada por meio de arguição.\n",
    "\n",
    "\n",
    "---"
   ]
  },
  {
   "cell_type": "code",
   "execution_count": null,
   "id": "61dea0bc",
   "metadata": {},
   "outputs": [],
   "source": [
    "import pandas as pd\n",
    "import numpy as np\n",
    "import seaborn as sns\n",
    "from ucimlrepo import fetch_ucirepo \n",
    "import matplotlib.pyplot as plt\n",
    "\n",
    "from sklearn.model_selection import train_test_split, cross_val_score\n",
    "from sklearn.preprocessing import StandardScaler\n",
    "from sklearn.feature_selection import VarianceThreshold, SequentialFeatureSelector\n",
    "from sklearn.metrics import accuracy_score, confusion_matrix, classification_report, mean_squared_error, r2_score, precision_score, recall_score, f1_score, \n",
    "from sklearn.feature_selection import SelectKBest, f_classif\n",
    "from imblearn.over_sampling import SMOTE\n",
    "from sklearn.preprocessing import MinMaxScaler\n",
    "from sklearn.model_selection import StratifiedKFold\n",
    "from sklearn.model_selection import cross_validate\n",
    "from sklearn.datasets import make_circles, make_classification\n",
    "\n",
    "from sklearn.neural_network import MLPClassifier\n",
    "from sklearn.tree import DecisionTreeRegressor\n",
    "from sklearn.ensemble import RandomForestClassifier\n"
   ]
  },
  {
   "cell_type": "markdown",
   "id": "fb1a324a",
   "metadata": {},
   "source": [
    "---\n",
    "\n",
    "### 1. Base de Dados:\n",
    "Escolher três base de dados de regressão ou classificação do repositório UCI Machine Learning Repository (https://archive.ics.uci.edu/) ou outra fonte confiável.\n",
    "\n",
    "Datasets:\n",
    "- **Regressão**: Student Performance\n",
    "- **Classificação**: SMS Spam Collection\n",
    "- Concrete Compressive Strength"
   ]
  },
  {
   "cell_type": "code",
   "execution_count": null,
   "id": "e6eae278",
   "metadata": {},
   "outputs": [],
   "source": [
    "# ------------------ STUDENT PERFORMANCE ------------------\n",
    "# fetch dataset \n",
    "student_performance = fetch_ucirepo(id=320) \n",
    "\n",
    "# data (as pandas dataframes) \n",
    "X = student_performance.data.features \n",
    "y = student_performance.data.targets \n",
    "  \n",
    "# metadata \n",
    "print(student_performance.metadata) \n",
    "  \n",
    "# variable information \n",
    "print(student_performance.variables) \n"
   ]
  },
  {
   "cell_type": "markdown",
   "id": "4bf25962",
   "metadata": {},
   "source": [
    "---\n",
    "\n",
    "### 2. Modelagem com Algoritmos Supervisionados:\n",
    "Utilizar os três ou mais\n",
    "- Rede Neural (MLP)\n",
    "- Árvore de Decisão\n",
    "- Random Forest\n",
    "\n",
    "Explorar diferentes arquiteturas ou configurações (como profundidade, número de neurônios, número de árvores etc.) para gerar modelos com diferentes graus de complexidade."
   ]
  },
  {
   "cell_type": "code",
   "execution_count": null,
   "id": "8859d5aa",
   "metadata": {},
   "outputs": [],
   "source": []
  },
  {
   "cell_type": "markdown",
   "id": "b46a7d18",
   "metadata": {},
   "source": [
    "---\n",
    "\n",
    "### 3. Critérios de Avaliação:\n",
    "**Erro de predição**: utilizar métricas como MSE, RMSE, acurácia, F1-score, conforme o tipo de problema.\n",
    "\n",
    "**Complexidade do modelo**:\n",
    "* **Redes neurais**: número de parâmetros treináveis.\n",
    "* **Árvores de decisão**: profundidade ou número de nós.\n",
    "* **Random Forest**: número de árvores e profundidade média."
   ]
  },
  {
   "cell_type": "code",
   "execution_count": null,
   "id": "0a87526e",
   "metadata": {},
   "outputs": [],
   "source": []
  },
  {
   "cell_type": "markdown",
   "id": "3363ba43",
   "metadata": {},
   "source": [
    "---\n",
    "\n",
    "### 4. Otimização Multiobjetivo:\n",
    "Utilizar alguma abordagem para encontrar modelos que equilibrem desempenho e complexidade, como:\n",
    "- Busca em grade ou aleatória com análise biobjetiva.\n",
    "- Algoritmos evolutivos (como NSGA-II, se desejado).\n",
    "- Análise e visualização da fronteira de Pareto."
   ]
  },
  {
   "cell_type": "code",
   "execution_count": null,
   "id": "2e3faeb3",
   "metadata": {},
   "outputs": [],
   "source": []
  }
 ],
 "metadata": {
  "kernelspec": {
   "display_name": "Python 3",
   "language": "python",
   "name": "python3"
  },
  "language_info": {
   "name": "python",
   "version": "3.13.1"
  }
 },
 "nbformat": 4,
 "nbformat_minor": 5
}
